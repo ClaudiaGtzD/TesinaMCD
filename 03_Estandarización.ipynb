{
 "cells": [
  {
   "cell_type": "markdown",
   "metadata": {},
   "source": [
    "# Estandarización\n",
    "\n",
    "En este documento se procederá a estandarizar las variables seleccionadas de acuerdo al artículo."
   ]
  },
  {
   "cell_type": "markdown",
   "metadata": {},
   "source": [
    "A pesar que hay ciertos artículos que mencionan aplicar el standard scale, se optará por aplican min max scaler a todos los conjuntos, puesto que con los datos que tenemos no podemos asegurar que todas las variables pertenezcan a una distribución normal."
   ]
  },
  {
   "cell_type": "code",
   "execution_count": 15,
   "metadata": {},
   "outputs": [
    {
     "data": {
      "text/plain": [
       "Fecha               datetime64[ns]\n",
       "Generación                 float64\n",
       "Índice UV                  float64\n",
       "Temperatura                  int64\n",
       "Hora                         int64\n",
       "DPT                          int64\n",
       "Cobertura Nubes              int64\n",
       "Condición Cielo              int64\n",
       "Humedad Relativa             int64\n",
       "dtype: object"
      ]
     },
     "execution_count": 15,
     "metadata": {},
     "output_type": "execute_result"
    }
   ],
   "source": [
    "import pandas as pd\n",
    "datos = pd.read_excel('02.Generación Pearson.xlsx')\n",
    "datos.dtypes"
   ]
  },
  {
   "cell_type": "code",
   "execution_count": 4,
   "metadata": {},
   "outputs": [
    {
     "name": "stdout",
     "output_type": "stream",
     "text": [
      "Collecting scikit-learn\n",
      "  Downloading scikit_learn-1.6.1-cp39-cp39-win_amd64.whl.metadata (15 kB)\n",
      "Requirement already satisfied: numpy>=1.19.5 in c:\\users\\claudia\\anaconda3\\envs\\tesina_env\\lib\\site-packages (from scikit-learn) (2.0.2)\n",
      "Requirement already satisfied: scipy>=1.6.0 in c:\\users\\claudia\\anaconda3\\envs\\tesina_env\\lib\\site-packages (from scikit-learn) (1.13.1)\n",
      "Requirement already satisfied: joblib>=1.2.0 in c:\\users\\claudia\\anaconda3\\envs\\tesina_env\\lib\\site-packages (from scikit-learn) (1.4.2)\n",
      "Collecting threadpoolctl>=3.1.0 (from scikit-learn)\n",
      "  Using cached threadpoolctl-3.5.0-py3-none-any.whl.metadata (13 kB)\n",
      "Downloading scikit_learn-1.6.1-cp39-cp39-win_amd64.whl (11.2 MB)\n",
      "   ---------------------------------------- 0.0/11.2 MB ? eta -:--:--\n",
      "   ------------------ --------------------- 5.2/11.2 MB 31.9 MB/s eta 0:00:01\n",
      "   ---------------------------------------- 11.2/11.2 MB 33.2 MB/s eta 0:00:00\n",
      "Using cached threadpoolctl-3.5.0-py3-none-any.whl (18 kB)\n",
      "Installing collected packages: threadpoolctl, scikit-learn\n",
      "Successfully installed scikit-learn-1.6.1 threadpoolctl-3.5.0\n",
      "Note: you may need to restart the kernel to use updated packages.\n"
     ]
    }
   ],
   "source": [
    "pip install scikit-learn"
   ]
  },
  {
   "cell_type": "code",
   "execution_count": 16,
   "metadata": {},
   "outputs": [
    {
     "data": {
      "text/html": [
       "<div>\n",
       "<style scoped>\n",
       "    .dataframe tbody tr th:only-of-type {\n",
       "        vertical-align: middle;\n",
       "    }\n",
       "\n",
       "    .dataframe tbody tr th {\n",
       "        vertical-align: top;\n",
       "    }\n",
       "\n",
       "    .dataframe thead th {\n",
       "        text-align: right;\n",
       "    }\n",
       "</style>\n",
       "<table border=\"1\" class=\"dataframe\">\n",
       "  <thead>\n",
       "    <tr style=\"text-align: right;\">\n",
       "      <th></th>\n",
       "      <th>Fecha</th>\n",
       "      <th>Generación</th>\n",
       "      <th>Índice UV</th>\n",
       "      <th>Temperatura</th>\n",
       "      <th>Hora</th>\n",
       "      <th>DPT</th>\n",
       "      <th>Cobertura Nubes</th>\n",
       "      <th>Condición Cielo</th>\n",
       "      <th>Humedad Relativa</th>\n",
       "    </tr>\n",
       "  </thead>\n",
       "  <tbody>\n",
       "    <tr>\n",
       "      <th>11252</th>\n",
       "      <td>2023-12-14 19:00:00</td>\n",
       "      <td>0.000000</td>\n",
       "      <td>0.000000</td>\n",
       "      <td>0.358974</td>\n",
       "      <td>0.750000</td>\n",
       "      <td>0.55</td>\n",
       "      <td>0.98</td>\n",
       "      <td>1.00</td>\n",
       "      <td>0.783505</td>\n",
       "    </tr>\n",
       "    <tr>\n",
       "      <th>17108</th>\n",
       "      <td>2024-08-14 19:00:00</td>\n",
       "      <td>0.352733</td>\n",
       "      <td>0.000000</td>\n",
       "      <td>0.641026</td>\n",
       "      <td>0.750000</td>\n",
       "      <td>0.65</td>\n",
       "      <td>0.47</td>\n",
       "      <td>0.50</td>\n",
       "      <td>0.453608</td>\n",
       "    </tr>\n",
       "    <tr>\n",
       "      <th>7755</th>\n",
       "      <td>2023-07-21 02:00:00</td>\n",
       "      <td>0.000000</td>\n",
       "      <td>0.000000</td>\n",
       "      <td>0.487179</td>\n",
       "      <td>0.041667</td>\n",
       "      <td>0.75</td>\n",
       "      <td>0.23</td>\n",
       "      <td>0.00</td>\n",
       "      <td>0.762887</td>\n",
       "    </tr>\n",
       "    <tr>\n",
       "      <th>5946</th>\n",
       "      <td>2023-05-06 17:00:00</td>\n",
       "      <td>0.787333</td>\n",
       "      <td>0.142857</td>\n",
       "      <td>0.820513</td>\n",
       "      <td>0.666667</td>\n",
       "      <td>0.40</td>\n",
       "      <td>0.84</td>\n",
       "      <td>0.75</td>\n",
       "      <td>0.206186</td>\n",
       "    </tr>\n",
       "  </tbody>\n",
       "</table>\n",
       "</div>"
      ],
      "text/plain": [
       "                    Fecha  Generación  Índice UV  Temperatura      Hora   DPT  \\\n",
       "11252 2023-12-14 19:00:00    0.000000   0.000000     0.358974  0.750000  0.55   \n",
       "17108 2024-08-14 19:00:00    0.352733   0.000000     0.641026  0.750000  0.65   \n",
       "7755  2023-07-21 02:00:00    0.000000   0.000000     0.487179  0.041667  0.75   \n",
       "5946  2023-05-06 17:00:00    0.787333   0.142857     0.820513  0.666667  0.40   \n",
       "\n",
       "       Cobertura Nubes  Condición Cielo  Humedad Relativa  \n",
       "11252             0.98             1.00          0.783505  \n",
       "17108             0.47             0.50          0.453608  \n",
       "7755              0.23             0.00          0.762887  \n",
       "5946              0.84             0.75          0.206186  "
      ]
     },
     "execution_count": 16,
     "metadata": {},
     "output_type": "execute_result"
    }
   ],
   "source": [
    "from sklearn.preprocessing import MinMaxScaler\n",
    "\n",
    "datos_scaled = datos.copy()\n",
    "\n",
    "col_num = datos_scaled.select_dtypes(include=['number']).columns\n",
    "\n",
    "scaler = MinMaxScaler()\n",
    "datos_scaled[col_num] = scaler.fit_transform(datos_scaled[col_num])\n",
    "datos_scaled.sample(4)"
   ]
  },
  {
   "cell_type": "code",
   "execution_count": null,
   "metadata": {},
   "outputs": [],
   "source": [
    "datos_scaled.to_excel(\"03.Generación MinMax.xlsx\", header=True, index=False)"
   ]
  },
  {
   "cell_type": "markdown",
   "metadata": {},
   "source": [
    "## CT-NET\n",
    "\n",
    "Se aplicará MinMax para estandarizar sus variables."
   ]
  },
  {
   "cell_type": "code",
   "execution_count": 9,
   "metadata": {},
   "outputs": [
    {
     "data": {
      "text/plain": [
       "Fecha               datetime64[ns]\n",
       "Generación                 float64\n",
       "Índice UV                  float64\n",
       "Temperatura                  int64\n",
       "Humedad Relativa             int64\n",
       "dtype: object"
      ]
     },
     "execution_count": 9,
     "metadata": {},
     "output_type": "execute_result"
    }
   ],
   "source": [
    "datos = pd.read_excel('02.Generación Pearson CT-NET.xlsx')\n",
    "datos.dtypes"
   ]
  },
  {
   "cell_type": "code",
   "execution_count": 10,
   "metadata": {},
   "outputs": [
    {
     "data": {
      "text/html": [
       "<div>\n",
       "<style scoped>\n",
       "    .dataframe tbody tr th:only-of-type {\n",
       "        vertical-align: middle;\n",
       "    }\n",
       "\n",
       "    .dataframe tbody tr th {\n",
       "        vertical-align: top;\n",
       "    }\n",
       "\n",
       "    .dataframe thead th {\n",
       "        text-align: right;\n",
       "    }\n",
       "</style>\n",
       "<table border=\"1\" class=\"dataframe\">\n",
       "  <thead>\n",
       "    <tr style=\"text-align: right;\">\n",
       "      <th></th>\n",
       "      <th>Fecha</th>\n",
       "      <th>Generación</th>\n",
       "      <th>Índice UV</th>\n",
       "      <th>Temperatura</th>\n",
       "      <th>Humedad Relativa</th>\n",
       "    </tr>\n",
       "  </thead>\n",
       "  <tbody>\n",
       "    <tr>\n",
       "      <th>1210</th>\n",
       "      <td>2022-10-21 10:00:00</td>\n",
       "      <td>0.406567</td>\n",
       "      <td>0.142857</td>\n",
       "      <td>0.333333</td>\n",
       "      <td>0.814433</td>\n",
       "    </tr>\n",
       "    <tr>\n",
       "      <th>757</th>\n",
       "      <td>2022-10-02 13:00:00</td>\n",
       "      <td>0.906653</td>\n",
       "      <td>0.285714</td>\n",
       "      <td>0.512821</td>\n",
       "      <td>0.360825</td>\n",
       "    </tr>\n",
       "    <tr>\n",
       "      <th>13034</th>\n",
       "      <td>2024-02-27 01:00:00</td>\n",
       "      <td>0.000000</td>\n",
       "      <td>0.000000</td>\n",
       "      <td>0.410256</td>\n",
       "      <td>0.577320</td>\n",
       "    </tr>\n",
       "    <tr>\n",
       "      <th>10984</th>\n",
       "      <td>2023-12-03 15:00:00</td>\n",
       "      <td>0.527233</td>\n",
       "      <td>0.135714</td>\n",
       "      <td>0.307692</td>\n",
       "      <td>0.814433</td>\n",
       "    </tr>\n",
       "  </tbody>\n",
       "</table>\n",
       "</div>"
      ],
      "text/plain": [
       "                    Fecha  Generación  Índice UV  Temperatura  \\\n",
       "1210  2022-10-21 10:00:00    0.406567   0.142857     0.333333   \n",
       "757   2022-10-02 13:00:00    0.906653   0.285714     0.512821   \n",
       "13034 2024-02-27 01:00:00    0.000000   0.000000     0.410256   \n",
       "10984 2023-12-03 15:00:00    0.527233   0.135714     0.307692   \n",
       "\n",
       "       Humedad Relativa  \n",
       "1210           0.814433  \n",
       "757            0.360825  \n",
       "13034          0.577320  \n",
       "10984          0.814433  "
      ]
     },
     "execution_count": 10,
     "metadata": {},
     "output_type": "execute_result"
    }
   ],
   "source": [
    "datos_scaled = datos.copy()\n",
    "\n",
    "col_num = datos_scaled.select_dtypes(include=['number']).columns\n",
    "\n",
    "scaler = MinMaxScaler()\n",
    "datos_scaled[col_num] = scaler.fit_transform(datos_scaled[col_num])\n",
    "datos_scaled.sample(4)"
   ]
  },
  {
   "cell_type": "code",
   "execution_count": 11,
   "metadata": {},
   "outputs": [],
   "source": [
    "datos.to_excel(\"03.Generación MinMax CT-NET.xlsx\", header=True, index=False)"
   ]
  },
  {
   "cell_type": "markdown",
   "metadata": {},
   "source": [
    "## Photovoltaic\n",
    "\n",
    "Se aplicará MinMax para estandarizar la información"
   ]
  },
  {
   "cell_type": "code",
   "execution_count": 12,
   "metadata": {},
   "outputs": [
    {
     "data": {
      "text/plain": [
       "Fecha               datetime64[ns]\n",
       "Generación                 float64\n",
       "Índice UV                  float64\n",
       "Temperatura                  int64\n",
       "Hora                         int64\n",
       "DPT                          int64\n",
       "Cobertura Nubes              int64\n",
       "Condición Cielo              int64\n",
       "Humedad Relativa             int64\n",
       "dtype: object"
      ]
     },
     "execution_count": 12,
     "metadata": {},
     "output_type": "execute_result"
    }
   ],
   "source": [
    "datos = pd.read_excel('02.Generación Pearson Photovoltaic.xlsx')\n",
    "datos.dtypes"
   ]
  },
  {
   "cell_type": "code",
   "execution_count": 13,
   "metadata": {},
   "outputs": [
    {
     "data": {
      "text/html": [
       "<div>\n",
       "<style scoped>\n",
       "    .dataframe tbody tr th:only-of-type {\n",
       "        vertical-align: middle;\n",
       "    }\n",
       "\n",
       "    .dataframe tbody tr th {\n",
       "        vertical-align: top;\n",
       "    }\n",
       "\n",
       "    .dataframe thead th {\n",
       "        text-align: right;\n",
       "    }\n",
       "</style>\n",
       "<table border=\"1\" class=\"dataframe\">\n",
       "  <thead>\n",
       "    <tr style=\"text-align: right;\">\n",
       "      <th></th>\n",
       "      <th>Fecha</th>\n",
       "      <th>Generación</th>\n",
       "      <th>Índice UV</th>\n",
       "      <th>Temperatura</th>\n",
       "      <th>Hora</th>\n",
       "      <th>DPT</th>\n",
       "      <th>Cobertura Nubes</th>\n",
       "      <th>Condición Cielo</th>\n",
       "      <th>Humedad Relativa</th>\n",
       "    </tr>\n",
       "  </thead>\n",
       "  <tbody>\n",
       "    <tr>\n",
       "      <th>14158</th>\n",
       "      <td>2024-04-15 22:00:00</td>\n",
       "      <td>0.000000</td>\n",
       "      <td>0.000000</td>\n",
       "      <td>0.641026</td>\n",
       "      <td>0.913043</td>\n",
       "      <td>0.65</td>\n",
       "      <td>0.92</td>\n",
       "      <td>1.0</td>\n",
       "      <td>0.463918</td>\n",
       "    </tr>\n",
       "    <tr>\n",
       "      <th>15127</th>\n",
       "      <td>2024-05-26 07:00:00</td>\n",
       "      <td>0.058333</td>\n",
       "      <td>0.071429</td>\n",
       "      <td>0.487179</td>\n",
       "      <td>0.260870</td>\n",
       "      <td>0.85</td>\n",
       "      <td>0.00</td>\n",
       "      <td>0.0</td>\n",
       "      <td>0.865979</td>\n",
       "    </tr>\n",
       "    <tr>\n",
       "      <th>18082</th>\n",
       "      <td>2024-09-26 10:00:00</td>\n",
       "      <td>0.770533</td>\n",
       "      <td>0.214286</td>\n",
       "      <td>0.487179</td>\n",
       "      <td>0.391304</td>\n",
       "      <td>0.75</td>\n",
       "      <td>0.70</td>\n",
       "      <td>1.0</td>\n",
       "      <td>0.752577</td>\n",
       "    </tr>\n",
       "    <tr>\n",
       "      <th>6487</th>\n",
       "      <td>2023-05-31 07:00:00</td>\n",
       "      <td>0.072433</td>\n",
       "      <td>0.071429</td>\n",
       "      <td>0.384615</td>\n",
       "      <td>0.260870</td>\n",
       "      <td>0.75</td>\n",
       "      <td>0.20</td>\n",
       "      <td>0.0</td>\n",
       "      <td>0.989691</td>\n",
       "    </tr>\n",
       "  </tbody>\n",
       "</table>\n",
       "</div>"
      ],
      "text/plain": [
       "                    Fecha  Generación  Índice UV  Temperatura      Hora   DPT  \\\n",
       "14158 2024-04-15 22:00:00    0.000000   0.000000     0.641026  0.913043  0.65   \n",
       "15127 2024-05-26 07:00:00    0.058333   0.071429     0.487179  0.260870  0.85   \n",
       "18082 2024-09-26 10:00:00    0.770533   0.214286     0.487179  0.391304  0.75   \n",
       "6487  2023-05-31 07:00:00    0.072433   0.071429     0.384615  0.260870  0.75   \n",
       "\n",
       "       Cobertura Nubes  Condición Cielo  Humedad Relativa  \n",
       "14158             0.92              1.0          0.463918  \n",
       "15127             0.00              0.0          0.865979  \n",
       "18082             0.70              1.0          0.752577  \n",
       "6487              0.20              0.0          0.989691  "
      ]
     },
     "execution_count": 13,
     "metadata": {},
     "output_type": "execute_result"
    }
   ],
   "source": [
    "datos_scaled = datos.copy()\n",
    "\n",
    "col_num = datos_scaled.select_dtypes(include=['number']).columns\n",
    "\n",
    "scaler = MinMaxScaler()\n",
    "datos_scaled[col_num] = scaler.fit_transform(datos_scaled[col_num])\n",
    "datos_scaled.sample(4)"
   ]
  },
  {
   "cell_type": "code",
   "execution_count": 14,
   "metadata": {},
   "outputs": [],
   "source": [
    "datos.to_excel(\"03.Generación MinMax Photovoltaic.xlsx\", header=True, index=False)"
   ]
  }
 ],
 "metadata": {
  "kernelspec": {
   "display_name": "tesina_env",
   "language": "python",
   "name": "python3"
  },
  "language_info": {
   "codemirror_mode": {
    "name": "ipython",
    "version": 3
   },
   "file_extension": ".py",
   "mimetype": "text/x-python",
   "name": "python",
   "nbconvert_exporter": "python",
   "pygments_lexer": "ipython3",
   "version": "3.9.21"
  }
 },
 "nbformat": 4,
 "nbformat_minor": 2
}
